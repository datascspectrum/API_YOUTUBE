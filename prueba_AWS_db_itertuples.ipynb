{
 "cells": [
  {
   "cell_type": "code",
   "execution_count": 1,
   "id": "a3c30914",
   "metadata": {
    "scrolled": false
   },
   "outputs": [],
   "source": [
    "# INSTALAR E IMPORTAR LIBRERIAS\n",
    "#!pip install mysqlclient\n",
    "#!pip install PyMySQL\n",
    "#!pip install mysql-connector-python\n",
    "import MySQLdb as msdb\n",
    "import pymysql\n",
    "import pandas as pd\n",
    "import numpy as np\n",
    "import mysql.connector as mysql\n",
    "from mysql.connector import connection\n"
   ]
  },
  {
   "cell_type": "code",
   "execution_count": 2,
   "id": "8f55418f",
   "metadata": {},
   "outputs": [],
   "source": [
    "# Funcion para conectar a la DB\n",
    "def connect_to_db (host_name,username,puerto,password,db_name):\n",
    "    try:\n",
    "        conn= mysql.connect(host=host_name, user=username,port=puerto, password=password,database=db_name)\n",
    "    except mysql.OperationalError as e:\n",
    "        raise e\n",
    "    else:\n",
    "        print('Connected!')\n",
    "    return conn"
   ]
  },
  {
   "cell_type": "code",
   "execution_count": 3,
   "id": "b28300ec",
   "metadata": {},
   "outputs": [],
   "source": [
    "#Consejos al conectar con AWS\n",
    "#Es importante para que conecte establecer los parametros de seguridad en AWS que permitan acceso al ip\n",
    "#El puede conectar a solo la ip local o todas.\n",
    "\n",
    "\n",
    "host_name=\"xxx.x.x.x\" # Sustituir por ip de AWS o LOCALHOST\n",
    "db_name= \"prueba_db\" # Cualquier nombre\n",
    "username=\"root\" #Cualquier usuario\n",
    "password= \"1234567890\" #Cualquier clave\n",
    "puerto= int(3306) #Puerto de la DDBB\n",
    "conn= None #Inicialmente None"
   ]
  },
  {
   "cell_type": "code",
   "execution_count": 4,
   "id": "8c219a6d",
   "metadata": {},
   "outputs": [
    {
     "name": "stdout",
     "output_type": "stream",
     "text": [
      "Connected!\n"
     ]
    }
   ],
   "source": [
    "#Conectar a la DDBB\n",
    "conn = connect_to_db (host_name,username,puerto, password,db_name)"
   ]
  },
  {
   "cell_type": "code",
   "execution_count": 5,
   "id": "4028abab",
   "metadata": {},
   "outputs": [
    {
     "data": {
      "text/html": [
       "<div>\n",
       "<style scoped>\n",
       "    .dataframe tbody tr th:only-of-type {\n",
       "        vertical-align: middle;\n",
       "    }\n",
       "\n",
       "    .dataframe tbody tr th {\n",
       "        vertical-align: top;\n",
       "    }\n",
       "\n",
       "    .dataframe thead th {\n",
       "        text-align: right;\n",
       "    }\n",
       "</style>\n",
       "<table border=\"1\" class=\"dataframe\">\n",
       "  <thead>\n",
       "    <tr style=\"text-align: right;\">\n",
       "      <th></th>\n",
       "      <th>video_id</th>\n",
       "      <th>video_title</th>\n",
       "      <th>upload_date</th>\n",
       "      <th>view_count</th>\n",
       "      <th>like_count</th>\n",
       "      <th>favorite_count</th>\n",
       "      <th>comment_count</th>\n",
       "    </tr>\n",
       "  </thead>\n",
       "  <tbody>\n",
       "    <tr>\n",
       "      <th>0</th>\n",
       "      <td>8Fb2GmLes04</td>\n",
       "      <td>El SIPDN   Autopromocionarse para lograrlo con...</td>\n",
       "      <td>2022-03-15</td>\n",
       "      <td>15250</td>\n",
       "      <td>588</td>\n",
       "      <td>0</td>\n",
       "      <td>106</td>\n",
       "    </tr>\n",
       "    <tr>\n",
       "      <th>1</th>\n",
       "      <td>WtLhkxArl4E</td>\n",
       "      <td>El SIPDN   Una guitarrista venezolana en Holly...</td>\n",
       "      <td>2022-03-08</td>\n",
       "      <td>16443</td>\n",
       "      <td>680</td>\n",
       "      <td>0</td>\n",
       "      <td>111</td>\n",
       "    </tr>\n",
       "    <tr>\n",
       "      <th>2</th>\n",
       "      <td>S-CGw_fWEfA</td>\n",
       "      <td>El SIPDN   Cómo es la vida de un gamer profesi...</td>\n",
       "      <td>2022-03-01</td>\n",
       "      <td>17973</td>\n",
       "      <td>581</td>\n",
       "      <td>0</td>\n",
       "      <td>86</td>\n",
       "    </tr>\n",
       "    <tr>\n",
       "      <th>3</th>\n",
       "      <td>847qMLoON_c</td>\n",
       "      <td>El SIPDN   Un podcast de campeonato mundial co...</td>\n",
       "      <td>2022-02-22</td>\n",
       "      <td>27552</td>\n",
       "      <td>1105</td>\n",
       "      <td>0</td>\n",
       "      <td>176</td>\n",
       "    </tr>\n",
       "    <tr>\n",
       "      <th>4</th>\n",
       "      <td>wDAfLRJDxbc</td>\n",
       "      <td>El SIPDN   Sobreviviendo a la naturaleza y a l...</td>\n",
       "      <td>2022-02-15</td>\n",
       "      <td>42189</td>\n",
       "      <td>1600</td>\n",
       "      <td>0</td>\n",
       "      <td>512</td>\n",
       "    </tr>\n",
       "  </tbody>\n",
       "</table>\n",
       "</div>"
      ],
      "text/plain": [
       "      video_id                                        video_title upload_date  \\\n",
       "0  8Fb2GmLes04  El SIPDN   Autopromocionarse para lograrlo con...  2022-03-15   \n",
       "1  WtLhkxArl4E  El SIPDN   Una guitarrista venezolana en Holly...  2022-03-08   \n",
       "2  S-CGw_fWEfA  El SIPDN   Cómo es la vida de un gamer profesi...  2022-03-01   \n",
       "3  847qMLoON_c  El SIPDN   Un podcast de campeonato mundial co...  2022-02-22   \n",
       "4  wDAfLRJDxbc  El SIPDN   Sobreviviendo a la naturaleza y a l...  2022-02-15   \n",
       "\n",
       "   view_count  like_count  favorite_count  comment_count  \n",
       "0       15250         588               0            106  \n",
       "1       16443         680               0            111  \n",
       "2       17973         581               0             86  \n",
       "3       27552        1105               0            176  \n",
       "4       42189        1600               0            512  "
      ]
     },
     "execution_count": 5,
     "metadata": {},
     "output_type": "execute_result"
    }
   ],
   "source": [
    "#Leer el archivo csv creado \n",
    "df = pd.read_csv('prueba_youtube_api_nanutria4.csv')#, index_col=0)\n",
    "df.head()\n"
   ]
  },
  {
   "cell_type": "code",
   "execution_count": 6,
   "id": "44a0db9e",
   "metadata": {},
   "outputs": [],
   "source": [
    "#Crear Tabla\n",
    "def create_table(curr):\n",
    "    create_table_command=(\"\"\"CREATE TABLE IF NOT EXISTS videos2(\n",
    "                                video_id VARCHAR(255) PRIMARY KEY,\n",
    "                                video_title TEXT NOT NULL,\n",
    "                                upload_date DATE NOT NULL DEFAULT (CURRENT_DATE),\n",
    "                                view_count INTEGER NOT NULL,\n",
    "                                like_count INTEGER NOT NULL,\n",
    "                                favorite_count INTEGER NOT NULL,\n",
    "                                comment_count INTEGER NOT NULL)\n",
    "                                \"\"\")\n",
    "    \n",
    "    curr.execute(create_table_command)  "
   ]
  },
  {
   "cell_type": "code",
   "execution_count": 7,
   "id": "07ab9696",
   "metadata": {},
   "outputs": [],
   "source": [
    "# Revisa si el video existe\n",
    "def check_if_video_exists(curr,video_id):\n",
    "    query= (\"\"\" SELECT video_id FROM videos2 WHERE video_id = %s\"\"\")\n",
    "    curr.execute(query,(video_id,))\n",
    "    return curr.fetchone() is not None"
   ]
  },
  {
   "cell_type": "code",
   "execution_count": 8,
   "id": "c9471c34",
   "metadata": {},
   "outputs": [],
   "source": [
    "#Actualiza las filas si el video existe\n",
    "def update_row(curr, video_id,video_title, upload_date, \n",
    "               view_count, like_count, favorite_count, comment_count):\n",
    "    query= (\"\"\" UPDATE videos2\n",
    "            SET video_title = %s,\n",
    "            upload_date = %s,\n",
    "            view_count = %s,\n",
    "            like_count = %s,\n",
    "            favorite_count = %s,\n",
    "            comment_count = %s\n",
    "            WHERE video_id = %s;\"\"\")\n",
    "    vars_to_update = (video_title, upload_date, view_count, like_count, \n",
    "                      favorite_count,comment_count, video_id)\n",
    "    curr.execute(query,vars_to_update)\n"
   ]
  },
  {
   "cell_type": "code",
   "execution_count": 9,
   "id": "36baee3c",
   "metadata": {},
   "outputs": [],
   "source": [
    "# Actualiza la DDBB\n",
    "def update_db(curr,df):\n",
    "    tmp_df = pd.DataFrame(columns=['video_id','video_title', 'upload_date', 'view_count','like_count',\n",
    "                                  'favorite_count', 'comment_count'])\n",
    "    for row in df.itertuples():\n",
    "        if check_if_video_exists(curr, row[1]):# Si el video ya existe se actualiza\n",
    "            update_row(curr, row[1],row[2],row[3],row[4],row[5],row[6],row[7])\n",
    "        else: # Si el video no existe se añade a la tabla\n",
    "            a={'video_id':row[1],'video_title':row[2], 'upload_date':row[3], \n",
    "               'view_count':row[4],'like_count':row[5],'favorite_count':row[6],\n",
    "               'comment_count':row[7]}\n",
    "            tmp_df = tmp_df.append(a, ignore_index=True)\n",
    "    return tmp_df\n"
   ]
  },
  {
   "cell_type": "code",
   "execution_count": 10,
   "id": "68b043c0",
   "metadata": {},
   "outputs": [],
   "source": [
    "#Comando para inserta a la tabla\n",
    "def insert_into_table(curr,video_id,video_title, upload_date,view_count, \n",
    "                      like_count, favorite_count, comment_count):\n",
    "    insert_into_videos = (\"\"\"INSERT INTO videos2 (video_id, video_title, upload_date, view_count,\n",
    "                    like_count, favorite_count,comment_count) VALUES (%s,%s,%s,%s,%s,%s,%s);\"\"\")\n",
    "    row_to_insert=(video_id,video_title, upload_date, \n",
    "                   view_count, like_count, favorite_count, comment_count)\n",
    "    curr.execute(insert_into_videos,row_to_insert)"
   ]
  },
  {
   "cell_type": "code",
   "execution_count": 11,
   "id": "93c92171",
   "metadata": {},
   "outputs": [],
   "source": [
    "def append_from_df_to_db(curr,df):\n",
    "    for row in df.itertuples():\n",
    "        insert_into_table(curr,row[1],row[2],row[3],row[4],row[5],row[6],row[7])\n",
    "        \n",
    "    "
   ]
  },
  {
   "cell_type": "code",
   "execution_count": 12,
   "id": "f9570240",
   "metadata": {},
   "outputs": [],
   "source": [
    "# Para que este comando .cursor() funcione ya debe haberse creado una conexión a la DB\n",
    "curr= conn.cursor()"
   ]
  },
  {
   "cell_type": "code",
   "execution_count": 13,
   "id": "dc1b93d6",
   "metadata": {},
   "outputs": [],
   "source": [
    "create_table(curr)"
   ]
  },
  {
   "cell_type": "code",
   "execution_count": 14,
   "id": "99d19cf2",
   "metadata": {},
   "outputs": [],
   "source": [
    "new_video_df=update_db(curr,df)"
   ]
  },
  {
   "cell_type": "code",
   "execution_count": 15,
   "id": "18ab581f",
   "metadata": {},
   "outputs": [
    {
     "data": {
      "text/html": [
       "<div>\n",
       "<style scoped>\n",
       "    .dataframe tbody tr th:only-of-type {\n",
       "        vertical-align: middle;\n",
       "    }\n",
       "\n",
       "    .dataframe tbody tr th {\n",
       "        vertical-align: top;\n",
       "    }\n",
       "\n",
       "    .dataframe thead th {\n",
       "        text-align: right;\n",
       "    }\n",
       "</style>\n",
       "<table border=\"1\" class=\"dataframe\">\n",
       "  <thead>\n",
       "    <tr style=\"text-align: right;\">\n",
       "      <th></th>\n",
       "      <th>video_id</th>\n",
       "      <th>video_title</th>\n",
       "      <th>upload_date</th>\n",
       "      <th>view_count</th>\n",
       "      <th>like_count</th>\n",
       "      <th>favorite_count</th>\n",
       "      <th>comment_count</th>\n",
       "    </tr>\n",
       "  </thead>\n",
       "  <tbody>\n",
       "    <tr>\n",
       "      <th>0</th>\n",
       "      <td>8Fb2GmLes04</td>\n",
       "      <td>El SIPDN   Autopromocionarse para lograrlo con...</td>\n",
       "      <td>2022-03-15</td>\n",
       "      <td>15250</td>\n",
       "      <td>588</td>\n",
       "      <td>0</td>\n",
       "      <td>106</td>\n",
       "    </tr>\n",
       "    <tr>\n",
       "      <th>1</th>\n",
       "      <td>WtLhkxArl4E</td>\n",
       "      <td>El SIPDN   Una guitarrista venezolana en Holly...</td>\n",
       "      <td>2022-03-08</td>\n",
       "      <td>16443</td>\n",
       "      <td>680</td>\n",
       "      <td>0</td>\n",
       "      <td>111</td>\n",
       "    </tr>\n",
       "  </tbody>\n",
       "</table>\n",
       "</div>"
      ],
      "text/plain": [
       "      video_id                                        video_title upload_date  \\\n",
       "0  8Fb2GmLes04  El SIPDN   Autopromocionarse para lograrlo con...  2022-03-15   \n",
       "1  WtLhkxArl4E  El SIPDN   Una guitarrista venezolana en Holly...  2022-03-08   \n",
       "\n",
       "  view_count like_count favorite_count comment_count  \n",
       "0      15250        588              0           106  \n",
       "1      16443        680              0           111  "
      ]
     },
     "execution_count": 15,
     "metadata": {},
     "output_type": "execute_result"
    }
   ],
   "source": [
    "new_video_df"
   ]
  },
  {
   "cell_type": "code",
   "execution_count": 16,
   "id": "d558808b",
   "metadata": {},
   "outputs": [],
   "source": [
    "append_from_df_to_db(curr,new_video_df)"
   ]
  },
  {
   "cell_type": "code",
   "execution_count": 17,
   "id": "b17f3c39",
   "metadata": {},
   "outputs": [],
   "source": [
    "conn.commit()"
   ]
  },
  {
   "cell_type": "code",
   "execution_count": null,
   "id": "45abd59c",
   "metadata": {},
   "outputs": [],
   "source": [
    "# Queda pendiente medir el tiempo que gasta itertuples e intentar convertirlo a np.where ¿?\n"
   ]
  }
 ],
 "metadata": {
  "kernelspec": {
   "display_name": "Python 3",
   "language": "python",
   "name": "python3"
  },
  "language_info": {
   "codemirror_mode": {
    "name": "ipython",
    "version": 3
   },
   "file_extension": ".py",
   "mimetype": "text/x-python",
   "name": "python",
   "nbconvert_exporter": "python",
   "pygments_lexer": "ipython3",
   "version": "3.8.8"
  }
 },
 "nbformat": 4,
 "nbformat_minor": 5
}
